{
 "cells": [
  {
   "cell_type": "markdown",
   "metadata": {},
   "source": [
    "### This Script is used to clip the Raw audio into 2 seconds. Note that Is assumed that the data are pre processed in advance\n"
   ]
  },
  {
   "cell_type": "markdown",
   "metadata": {},
   "source": [
    "### It requries to follow the hirearchy directory as shown below. The clips directory should be empty in the end the result will be saved there. In raw data directory create one folder per category and insert raw audio files."
   ]
  },
  {
   "cell_type": "code",
   "execution_count": null,
   "metadata": {},
   "outputs": [],
   "source": [
    "'''\n",
    ".\n",
    "└── clip_sound.ipynb\n",
    "└── raw_data\n",
    "    └── cabbage\n",
    "        └── raw_sample1.mp3                                   \n",
    "        └── raw_sample1.mp3                                   \n",
    "        └── raw_sample1.mp3                                   \n",
    "    └── talk\n",
    "        └── raw_sample1.mp3\n",
    "        └── raw_sample1.mp3                                   \n",
    "        └── raw_sample1.mp3      \n",
    "└── clips                             \n",
    "'''"
   ]
  },
  {
   "cell_type": "code",
   "execution_count": 2,
   "metadata": {},
   "outputs": [],
   "source": [
    "import os\n",
    "from pydub import AudioSegment"
   ]
  },
  {
   "cell_type": "code",
   "execution_count": 3,
   "metadata": {},
   "outputs": [],
   "source": [
    "def cut_audio(path, class_name,count,duration=2000):\n",
    "\n",
    "    for file in os.listdir(path):\n",
    "\n",
    "        audio = AudioSegment.from_file(os.path.join(path,file))\n",
    "        total_duration = len(audio)\n",
    "        clip_count = total_duration // duration\n",
    "\n",
    "        output_directory = os.getcwd() + '/clips/'+ class_name\n",
    "\n",
    "        if not os.path.exists(output_directory):\n",
    "            os.makedirs(output_directory)\n",
    "\n",
    "        for i in range(clip_count):\n",
    "            start_time = i * duration\n",
    "            end_time = (i + 1) * duration\n",
    "            clip = audio[start_time:end_time]\n",
    "            output_file = os.path.join(output_directory, f\"clip_{ count + 1}.mp4\")\n",
    "            count +=1\n",
    "            clip.export(output_file, format=\"mp3\")\n"
   ]
  },
  {
   "cell_type": "code",
   "execution_count": 4,
   "metadata": {},
   "outputs": [
    {
     "name": "stdout",
     "output_type": "stream",
     "text": [
      "Trimming audio for class: cabbage\n",
      "Trimming audio for class: carrot\n",
      "Process completed successfully.\n"
     ]
    }
   ],
   "source": [
    "\n",
    "if __name__ == \"__main__\":\n",
    "\n",
    "    # Step 1: Get the list of classes\n",
    "    data_path = os.getcwd() + '\\\\raw_data\\\\'\n",
    "    classes = os.listdir(data_path)\n",
    "\n",
    "    for class_name in classes:\n",
    "        count=0\n",
    "        print(\"Trimming audio for class:\", class_name)\n",
    "        #Deffining the path for the class\n",
    "        path = os.path.join(data_path, class_name)\n",
    "        #Calling the cut_audio function\n",
    "        cut_audio(path, class_name, count)\n",
    "        \n",
    "    print(\"Process completed successfully.\")"
   ]
  }
 ],
 "metadata": {
  "kernelspec": {
   "display_name": "Python 3",
   "language": "python",
   "name": "python3"
  },
  "language_info": {
   "codemirror_mode": {
    "name": "ipython",
    "version": 3
   },
   "file_extension": ".py",
   "mimetype": "text/x-python",
   "name": "python",
   "nbconvert_exporter": "python",
   "pygments_lexer": "ipython3",
   "version": "3.11.5"
  }
 },
 "nbformat": 4,
 "nbformat_minor": 2
}
